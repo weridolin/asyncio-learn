{
 "cells": [
  {
   "cell_type": "code",
   "metadata": {
    "collapsed": true,
    "pycharm": {
     "name": "#%%\n"
    }
   },
   "source": [
    "from greenlet import greenlet\n",
    "\n",
    "def fun1():\n",
    "    print(\"step1\") # 第一步：输出1\n",
    "    gr2.switch() # 第二部：切换到FUNC2\n",
    "    print(\"step2\") # 第五步：输出2\n",
    "    gr2.switch()  # 第六步切换到FUNC2，从上一步执行的地方执行\n",
    "\n",
    "\n",
    "def fun2():\n",
    "    print('step3') # 第三步：输出3\n",
    "    gr1.switch()  # 第四步：切换到FUNC1，从上一步执行的地方执行\n",
    "    print(\"step4\") # 第八步：输出4\n",
    "\n",
    "\n",
    "gr1 = greenlet(fun1)\n",
    "gr2 = greenlet(fun2)\n",
    "\n",
    "gr1.switch() # 去执行func1\n",
    "\n"
   ],
   "execution_count": 1,
   "outputs": [
    {
     "name": "stdout",
     "output_type": "stream",
     "text": [
      "step1\n",
      "step3\n",
      "step2\n",
      "step4\n"
     ]
    }
   ]
  },
  {
   "cell_type": "markdown",
   "source": [
    "- yield 关键字"
   ],
   "metadata": {
    "collapsed": false
   }
  },
  {
   "cell_type": "code",
   "execution_count": 2,
   "outputs": [
    {
     "name": "stdout",
     "output_type": "stream",
     "text": [
      "1\n",
      "3\n",
      "4\n",
      "2\n"
     ]
    }
   ],
   "source": [
    "def func1():\n",
    "    yield 1\n",
    "    yield from func2()\n",
    "    yield 2\n",
    "\n",
    "def func2():\n",
    "    yield 3\n",
    "    yield 4\n",
    "f1= func1()\n",
    "for item in f1:\n",
    "    print(item)\n"
   ],
   "metadata": {
    "collapsed": false,
    "pycharm": {
     "name": "#%%\n"
    }
   }
  },
  {
   "cell_type": "markdown",
   "source": [
    "##### 协程意义\n",
    "- 在一个线程张遇到IO等待时间，线程不会傻等，利用空闲的时候再去干点其他事。\n"
   ],
   "metadata": {
    "collapsed": false
   }
  },
  {
   "cell_type": "code",
   "execution_count": null,
   "outputs": [],
   "source": [
    "#"
   ],
   "metadata": {
    "collapsed": false,
    "pycharm": {
     "name": "#%%\n"
    }
   }
  }
 ],
 "metadata": {
  "kernelspec": {
   "display_name": "Python 3",
   "language": "python",
   "name": "python3"
  },
  "language_info": {
   "codemirror_mode": {
    "name": "ipython",
    "version": 2
   },
   "file_extension": ".py",
   "mimetype": "text/x-python",
   "name": "python",
   "nbconvert_exporter": "python",
   "pygments_lexer": "ipython2",
   "version": "2.7.6"
  }
 },
 "nbformat": 4,
 "nbformat_minor": 0
}